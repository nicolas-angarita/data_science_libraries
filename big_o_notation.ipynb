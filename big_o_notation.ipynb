{
 "cells": [
  {
   "cell_type": "markdown",
   "id": "83910e2f",
   "metadata": {},
   "source": [
    "5. Make a new Jupyter notebook named big_o_notation.ipynb\n",
    "\n",
    " - Title your chart \"Big O Notation\"\n",
    " - Label your x axis \"Elements\"\n",
    " - Label your y axis \"Operations\"\n",
    " - Label your curves or make a legend for the curves\n",
    " - Use LaTex notation where possible\n",
    "\n",
    "Curves to graph\n",
    "\n",
    "y =0n+1 and label the curve \"O(1)\"\n",
    "\n",
    "\n",
    "y =log(n) and label the curve \"O(log n)\"\n",
    "\n",
    "y = n and label the curve \"O(n)\"\n",
    "\n",
    "y =n ∗ log(n) and label it \"O(n log n)\"\n",
    "\n",
    "y =n^ 2 and label it \"O(n^2)\"\n",
    "\n",
    "y = 2^ n and label it \"O(2^n)\"\n",
    "\n",
    "y = n! and label it \"O(n!)\"\n",
    "\n",
    "y = n^n and label it \"O(n^n)\""
   ]
  },
  {
   "cell_type": "code",
   "execution_count": 1,
   "id": "96a024f7",
   "metadata": {},
   "outputs": [],
   "source": [
    "import numpy as np\n",
    "import matplotlib.pyplot as plt"
   ]
  },
  {
   "cell_type": "code",
   "execution_count": 5,
   "id": "bac46d3e",
   "metadata": {},
   "outputs": [
    {
     "ename": "SyntaxError",
     "evalue": "invalid hexadecimal literal (835591401.py, line 4)",
     "output_type": "error",
     "traceback": [
      "\u001b[0;36m  Input \u001b[0;32mIn [5]\u001b[0;36m\u001b[0m\n\u001b[0;31m    y = 0x + 1\u001b[0m\n\u001b[0m         ^\u001b[0m\n\u001b[0;31mSyntaxError\u001b[0m\u001b[0;31m:\u001b[0m invalid hexadecimal literal\n"
     ]
    }
   ],
   "source": [
    "x = np.array([range(1,21)])\n",
    "\n",
    "\n",
    "y = 0x + 1\n",
    "\n",
    "plt.plot(x,y)"
   ]
  },
  {
   "cell_type": "code",
   "execution_count": null,
   "id": "cd0e6d1c",
   "metadata": {},
   "outputs": [],
   "source": []
  }
 ],
 "metadata": {
  "kernelspec": {
   "display_name": "Python 3 (ipykernel)",
   "language": "python",
   "name": "python3"
  },
  "language_info": {
   "codemirror_mode": {
    "name": "ipython",
    "version": 3
   },
   "file_extension": ".py",
   "mimetype": "text/x-python",
   "name": "python",
   "nbconvert_exporter": "python",
   "pygments_lexer": "ipython3",
   "version": "3.9.13"
  }
 },
 "nbformat": 4,
 "nbformat_minor": 5
}
